{
 "cells": [
  {
   "cell_type": "markdown",
   "metadata": {},
   "source": [
    "# Galaxy morphology from rest-frame colours\n",
    "\n",
    "In this task you will use machine learning in Python to assign morphological classes to galaxies. We will do this by constructing the appropriate likelihoods. This is a powerful, and theoretically optimal, way to classify samples.\n",
    "\n",
    "The aim here is to first classify into two classes which for simplicty I will call elliptical and spiral. To be concrete I adopt a convention where write the classes as ${\\omega_i}$. The elliptical class then becomes $\\omega_0$  and the spiral classs $\\omega_2$.\n",
    "\n",
    "We now need to determine $p(g-r|\\omega_0)$ and $p(g-r|\\omega_1)$. If we assume the two classes are equally likely we can use Bayes theorem to write\n",
    "\n",
    "$$p(\\omega_0|g-r) \\propto p(g-r|\\omega_0)$$\n",
    "\n",
    "which is what we need to classify our galaxies.\n"
   ]
  },
  {
   "cell_type": "markdown",
   "metadata": {},
   "source": [
    "## Deciding on what we need to use\n",
    "\n",
    "We want to model the class likelihoods in a non-parameteric way here. This means estimating them for instance using Kernel density estimation, k-nearest neighbour estimation, or Gaussian Mixture Modeling.\n",
    "\n",
    "For the first part of the problem we will use Kernel Density Estimation. So we need to input this along with a few other useful packages."
   ]
  },
  {
   "cell_type": "code",
   "execution_count": 1,
   "metadata": {
    "collapsed": false
   },
   "outputs": [
    {
     "name": "stderr",
     "output_type": "stream",
     "text": [
      "/usr/lib64/python2.7/site-packages/sklearn/cross_validation.py:44: DeprecationWarning: This module was deprecated in version 0.18 in favor of the model_selection module into which all the refactored classes and functions are moved. Also note that the interface of the new CV iterators are different from that of this module. This module will be removed in 0.20.\n",
      "  \"This module will be removed in 0.20.\", DeprecationWarning)\n"
     ]
    }
   ],
   "source": [
    "# These should be obvious now\n",
    "from astropy.io import fits\n",
    "import matplotlib.pyplot as plt\n",
    "import numpy as np\n",
    "from astroML.plotting import hist\n",
    "\n",
    "# For Kernel density estimation\n",
    "from sklearn.neighbors import KernelDensity\n",
    "# Not a particularly crucial routine - it provides a quick way to split a sample into\n",
    "# a training and test sample.\n",
    "from sklearn.cross_validation import train_test_split\n",
    "\n",
    "# These two are needed for the I/O routines below\n",
    "import cPickle\n",
    "import sys\n",
    "\n",
    "# Finally, since this is a Jupyter/IPython notebook, I want inline\n",
    "# graphics.\n",
    "%matplotlib inline"
   ]
  },
  {
   "cell_type": "markdown",
   "metadata": {},
   "source": [
    "## Input of data and data manipulation\n",
    "\n",
    "A key challenge in any data mining/machine learning program is to decide what to include in the modeling - the feature extraction. Here the main feature is the $g-r$ colour of the objects so we do not need to worry about that.\n",
    "\n",
    "However we also need to consider the data that we will want to use to model our class likelihood. First I need a routine to load my datafile. But I also include the two simple pickling routines we have seen earlier in case you want to use those later."
   ]
  },
  {
   "cell_type": "code",
   "execution_count": 2,
   "metadata": {
    "collapsed": true
   },
   "outputs": [],
   "source": [
    "def pickle_to_file(data, fname):\n",
    "\n",
    "    try:\n",
    "        fh = open(fname, 'w')\n",
    "        cPickle.dump(data, fh)\n",
    "        fh.close()\n",
    "    except:\n",
    "        print \"Pickling failed!\", sys.exc_info()[0]\n",
    "\n",
    "def pickle_from_file(fname):\n",
    "\n",
    "    try:\n",
    "        fh = open(fname, 'r')\n",
    "        data = cPickle.load(fh)\n",
    "        fh.close()\n",
    "    except:\n",
    "        print \"Loading pickled data failed!\", sys.exc_info()[0]\n",
    "        data = None\n",
    "\n",
    "    return data\n",
    "\n",
    "def read_morphology_catalogue():\n",
    "    \"\"\"\n",
    "    Get the Nair & Abraham morphology catalogue in the modified form\n",
    "    including absolute magnitudes and simple classification created\n",
    "    by the DDM11_MORPH_CREATE_SIMPLE_DATAFILE IDL routine.\n",
    "    \n",
    "    You need to modify this routine to find the file below.\n",
    "    \n",
    "    \"\"\"\n",
    "    if all:\n",
    "        suff = '-all'\n",
    "    else:\n",
    "        suff = ''\n",
    "       \n",
    "    # ADJUST THIS LOCATION IF NECESSARY!!\n",
    "    fname = '../../Datasets/Nair-Abraham-2010-edited-for-class.fits'\n",
    "    hdul = fits.open(fname)\n",
    "    t = hdul[1].data\n",
    "    hdul.close()\n",
    "\n",
    "    return t\n"
   ]
  },
  {
   "cell_type": "code",
   "execution_count": 3,
   "metadata": {
    "collapsed": false
   },
   "outputs": [],
   "source": [
    "t = read_morphology_catalogue()"
   ]
  },
  {
   "cell_type": "markdown",
   "metadata": {},
   "source": [
    "### Labelling of the galaxies\n",
    "\n",
    "The current catalogue has a finely graded morphological classification using T-types. The aim here is however to be coarses and just classify galaxies into spirals and ellipticals - thus the fine-grained information in T-types is overkill. This is therefore a simple routine that labels the galaxies so that ellipticals have class 0 and spirals 1 - galaxies that do not fall into either of these two classes will have class = -1."
   ]
  },
  {
   "cell_type": "code",
   "execution_count": 4,
   "metadata": {
    "collapsed": true
   },
   "outputs": [],
   "source": [
    "def create_label(t, ellipticals=(-10, 4), spirals=(4, 10)):\n",
    "    \"\"\"\n",
    "    Create a simple label for the elliptical, spiral classes based\n",
    "    on the galaxy T-type.\n",
    "\n",
    "    Input:\n",
    "    ------\n",
    "       t: A table with T-types (in table element T_TYPE). The format is\n",
    "          expected to be that returned by read_morphology_catalogue, but \n",
    "          any dictionary-like object with T_TYPE would work.\n",
    "          \n",
    "     ellipticals: A tuple giving the range of T-types to map to the elliptical class\n",
    "                  Default: (-10, 4)\n",
    "         spirals: The same as ellipticals, but now for spiral galaxies.\n",
    "                  Default: (4, 10)\n",
    "\n",
    "    Output:\n",
    "    -------\n",
    "    The routine returns an integer array with the same number\n",
    "    of elements as T_TYPE. For ellipticals the value is 0 and\n",
    "    for spirals the value is 1. For galaxies where no classification\n",
    "    is made the label is -1.\n",
    "    \"\"\"\n",
    "\n",
    "    ttype = t['T_TYPE']\n",
    "    label = np.zeros(len(ttype), int)-1\n",
    "\n",
    "    is_e = np.where((ttype >= ellipticals[0]) &\n",
    "                    (ttype <= ellipticals[1]))\n",
    "    is_s = np.where((ttype >= spirals[0]) &\n",
    "                    (ttype <= spirals[1]))\n",
    "\n",
    "    label[is_e] = 0\n",
    "    label[is_s] = 1\n",
    "\n",
    "    return label   "
   ]
  },
  {
   "cell_type": "code",
   "execution_count": 5,
   "metadata": {
    "collapsed": false
   },
   "outputs": [],
   "source": [
    "label = create_label(t)"
   ]
  },
  {
   "cell_type": "code",
   "execution_count": 6,
   "metadata": {
    "collapsed": false
   },
   "outputs": [
    {
     "data": {
      "text/plain": [
       "<matplotlib.text.Text at 0x7fc122183b10>"
      ]
     },
     "execution_count": 6,
     "metadata": {},
     "output_type": "execute_result"
    },
    {
     "data": {
      "image/png": "[encoded data removed]",
      "text/plain": [
       "<matplotlib.figure.Figure at 0x7fc123e58b10>"
      ]
     },
     "metadata": {},
     "output_type": "display_data"
    }
   ],
   "source": [
    "h = plt.hist(label, histtype='bar')\n",
    "plt.xlabel('Class')"
   ]
  },
  {
   "cell_type": "markdown",
   "metadata": {},
   "source": [
    "Next, I would like to tidy things up a bit. Thus this routine loads the table, classifies the galaxies _and throws out the unclassified galaxies_."
   ]
  },
  {
   "cell_type": "code",
   "execution_count": 17,
   "metadata": {
    "collapsed": true
   },
   "outputs": [],
   "source": [
    "def prepare_data():\n",
    "    \"\"\"\n",
    "    Load the table of galaxies and keep only ellipticals and spirals. \n",
    "    \"\"\"\n",
    "\n",
    "    t = read_morphology_catalogue()\n",
    "    # Use default settings\n",
    "    label = create_label(t)\n",
    "     \n",
    "    # Extract only ellipticals and spirals\n",
    "    use = np.where((label >= 0) & (t['GR_REST'] > -1) & \n",
    "                   (t['GR_REST'] < 3.5) & (np.isfinite(t['GR_REST'])))\n",
    "    t = t[use]\n",
    "    label = label[use]\n",
    "\n",
    "    return t, label\n",
    "    "
   ]
  },
  {
   "cell_type": "code",
   "execution_count": 18,
   "metadata": {
    "collapsed": false
   },
   "outputs": [
    {
     "name": "stderr",
     "output_type": "stream",
     "text": [
      "/software/local/lib64/python2.7/site-packages/ipykernel/__main__.py:12: RuntimeWarning: invalid value encountered in greater\n",
      "/software/local/lib64/python2.7/site-packages/ipykernel/__main__.py:12: RuntimeWarning: invalid value encountered in less\n"
     ]
    }
   ],
   "source": [
    "t, label = prepare_data()"
   ]
  },
  {
   "cell_type": "markdown",
   "metadata": {},
   "source": [
    "To illustrate the data - and what we will do below, it is perhaps useful to see a poorly documented function that creates a plot more or less like the one I showed in the lecture:"
   ]
  },
  {
   "cell_type": "code",
   "execution_count": 19,
   "metadata": {
    "collapsed": true
   },
   "outputs": [],
   "source": [
    "def show_colour_class(t, N=500, include_kde=True):\n",
    "    \"\"\"\n",
    "Show a plot illustrating the classes and their colours. This creates\n",
    "a plot with two panels. The top panel will show a histogram of the g-r\n",
    "colours and the bottom will show the actual points.\n",
    "\n",
    "If include_kde is set to true then a KDE estimate is plotted on top\n",
    "of the histograms.\n",
    "    \"\"\"\n",
    "\n",
    "\n",
    "    ax_top = plt.subplot(211)\n",
    "    ax_bottom = plt.subplot(212, sharex=ax_top)\n",
    "    plt.setp( ax_top.get_xticklabels(), visible=False)\n",
    "    plt.subplots_adjust(hspace=0)\n",
    "\n",
    "    # Find all spirals and ellipticals.\n",
    "    is_e, = np.where((t['T_TYPE'] >= -10) & (t['T_TYPE'] <= -4))\n",
    "    is_s, = np.where((t['T_TYPE'] >= 4) & (t['T_TYPE'] <= 10))\n",
    "\n",
    "    # Get the first N.\n",
    "    is_e = is_e[0:N]\n",
    "    is_s = is_s[0:N]\n",
    "\n",
    "    gr_s = t['GR_REST'][is_s]\n",
    "    gr_e = t['GR_REST'][is_e]\n",
    "    y = np.arange(N)\n",
    " \n",
    "    # Now plot the scatter plot.\n",
    "    ax_bottom.scatter(gr_s, y, c='b')\n",
    "    ax_bottom.scatter(gr_e, y, c='r')\n",
    "    ax_bottom.set_xlim(0, 1.1)\n",
    "\n",
    "\n",
    "    # Then the histogram\n",
    "    hist(gr_s, bins=50, range=(0, 1.2), ax=ax_top, \n",
    "         histtype='step', color='b', normed=True)\n",
    "    hist(gr_e, bins=50, range=(0, 1.2), ax=ax_top, \n",
    "         histtype='step', color='r', normed=True)\n",
    "\n",
    "    # Finally create the kernel density estimate\n",
    "    kde_s = KernelDensity(0.025, kernel='gaussian').fit(gr_s[:, np.newaxis])\n",
    "    kde_e = KernelDensity(0.025, kernel='gaussian').fit(gr_e[:, np.newaxis])\n",
    "\n",
    "    gr_plot = np.linspace(0, 1.2, 1000)\n",
    "    ln_h_s = kde_s.score_samples(gr_plot[:,np.newaxis])\n",
    "    ln_h_e = kde_e.score_samples(gr_plot[:,np.newaxis])\n",
    "    h_s = np.exp(ln_h_s)\n",
    "    h_e = np.exp(ln_h_e)\n",
    "    \n",
    "    ax_top.plot(gr_plot, h_s, color='#000099')\n",
    "    ax_top.plot(gr_plot, h_e, color='#990000')\n",
    "    ax_bottom.set_ylim([-50, 590])\n",
    "\n",
    "    plt.show()\n"
   ]
  },
  {
   "cell_type": "code",
   "execution_count": 20,
   "metadata": {
    "collapsed": false
   },
   "outputs": [
    {
     "data": {
      "image/png": "[encoded data removed]",
      "text/plain": [
       "<matplotlib.figure.Figure at 0x7fc11fe89410>"
      ]
     },
     "metadata": {},
     "output_type": "display_data"
    }
   ],
   "source": [
    "show_colour_class(t)"
   ]
  },
  {
   "cell_type": "markdown",
   "metadata": {},
   "source": [
    "## Classification\n",
    "\n",
    "We are now ready to carry out the classification of the data. This is achieved by the following function:"
   ]
  },
  {
   "cell_type": "code",
   "execution_count": 21,
   "metadata": {
    "collapsed": false
   },
   "outputs": [],
   "source": [
    "def derive_p_class(t, label=None, ellipticals=(-10, 4), spirals=(4, 10),\\\n",
    "                    bw_spiral=0.025, bw_elliptical=0.025):\n",
    "    \"\"\"\n",
    " Given the table and a set of indices of the training sample, \n",
    " calculate the likelihood distribution p(g-r|class)\n",
    "\n",
    "    Input:\n",
    "    ------\n",
    "    t: A table such as that returned by the read_morphology_catalogue routine\n",
    " label: The class label of each galaxy in t. If None, this is derived by calling create_label.\n",
    " ellipticals: See create_label\n",
    " spirals:     See create_label\n",
    "\n",
    " bw_spiral: The band-width of the kernel used to estimate p(g-r|class) for spirals.\n",
    " bw_elliptical: The band-width for p(g-r|class) for ellipticals.\n",
    " \n",
    "    Output:\n",
    "    -------\n",
    "    \n",
    "    The kernel density for p(g-r|spiral) and p(g-r|elliptical). These are created \n",
    "    using KernelDensity in sklearn and the can be called as we have done in the past.\n",
    "    \"\"\"\n",
    "\n",
    "    # Classify galaxies if needed.\n",
    "    if label is None:\n",
    "        label = create_label(t, ellipticals=ellipticals, spirals=spirals)\n",
    "\n",
    "    # Get the feature(s) for the sample\n",
    "    gr = t['GR_REST']\n",
    "\n",
    "    # Then find the spirals and ellipticals.\n",
    "    is_s = np.where(label == 1)\n",
    "    is_e = np.where(label == 0)\n",
    "\n",
    "    # Get the colours of the spirals and ellipticals.\n",
    "    gr_s = gr[is_s]\n",
    "    gr_e = gr[is_e]\n",
    "    \n",
    "    # Create the kernel density estimates\n",
    "    kde_s = KernelDensity(bw_spiral, kernel='gaussian').fit(gr_s[:, np.newaxis])\n",
    "    kde_e = KernelDensity(bw_elliptical, kernel='gaussian').fit(gr_e[:, np.newaxis])\n",
    "\n",
    "    return kde_s, kde_e\n"
   ]
  },
  {
   "cell_type": "code",
   "execution_count": 22,
   "metadata": {
    "collapsed": true
   },
   "outputs": [],
   "source": [
    "kde_s, kde_e = derive_p_class(t, label)"
   ]
  },
  {
   "cell_type": "markdown",
   "metadata": {},
   "source": [
    "## Creating a test and training sample.\n",
    "\n",
    "The final utility that is worth showing you before you get on with your problem is to show how one can easily create a test and training sample. To do this here I chose to create an index array with the length of the full table and then call the `train_test_split` function on this to create an index array for the training and test samples (see the documentation for `train_test_split` to see what you are actually doing here!). There are of course other ways to do this. \n",
    "\n",
    "The result here is that the `train` and `test` variables will each contain a table like `t`."
   ]
  },
  {
   "cell_type": "code",
   "execution_count": 23,
   "metadata": {
    "collapsed": true
   },
   "outputs": [],
   "source": [
    "inds = np.arange(len(t))\n",
    "i_train, i_test = train_test_split(inds)\n",
    "train = t[i_train]\n",
    "test = t[i_test]"
   ]
  },
  {
   "cell_type": "markdown",
   "metadata": {},
   "source": [
    "# Your tasks\n",
    "\n",
    "Ok, that is enough for starting out. Now try to use the above to do the following:\n",
    "\n",
    " 1. Classify the sample of galaxies and calculate the mis-classification rate for spirals and ellipticals (see the lecture notes for the definition of mis-classification rate).\n",
    " 2. Does the mis-classification rate depend on the band-width? Could you use this to determine the band-width?\n",
    " 3. Classify the galaxies using a Gaussian Mixture Model instead. *Hint: you might want to modify the `derive_p_class` function.*"
   ]
  },
  {
   "cell_type": "code",
   "execution_count": 86,
   "metadata": {
    "collapsed": false
   },
   "outputs": [],
   "source": [
    "def classify(table, label, kde_s, kde_e):\n",
    "    gr = table['GR_REST']\n",
    "    classification = np.zeros(len(gr))\n",
    "    mc = 0\n",
    "    for i in range(len(gr)):\n",
    "        if (kde_s.score_samples(gr[i]) > kde_e.score_samples(gr[i])):\n",
    "            classification[i] = 1\n",
    "        elif (kde_e.score_samples(gr[i]) > kde_s.score_samples(gr[i])):\n",
    "            classification[i] = 0\n",
    "        if classification[i] != label[i]:\n",
    "            mc += 1\n",
    "    return mc, classification \n",
    "\n",
    "def classify2(table, label, kde_s, kde_e):\n",
    "    gr = table['GR_REST']\n",
    "    classification = np.zeros(len(gr))\n",
    "    mc = 0\n",
    "    for i in range(len(gr)):\n",
    "        if (kde_s[i] > kde_e[i]):\n",
    "            classification[i] = 1\n",
    "        elif (kde_e[i] > kde_s[i]):\n",
    "            classification[i] = 0\n",
    "        if classification[i] != label[i]:\n",
    "            mc += 1\n",
    "    return mc, classification \n",
    "    "
   ]
  },
  {
   "cell_type": "code",
   "execution_count": 56,
   "metadata": {
    "collapsed": false
   },
   "outputs": [
    {
     "name": "stdout",
     "output_type": "stream",
     "text": [
      "Misclassification rate: 19.4237162911 %\n"
     ]
    }
   ],
   "source": [
    "mc, classification = classify(t, label, kde_s, kde_e)\n",
    "print \"Misclassification rate:\", (mc/float(len(t['GR_REST'])))*100., \"%\""
   ]
  },
  {
   "cell_type": "code",
   "execution_count": 57,
   "metadata": {
    "collapsed": false
   },
   "outputs": [
    {
     "name": "stdout",
     "output_type": "stream",
     "text": [
      "Misclassification rate: 19.4606575545 %\n"
     ]
    }
   ],
   "source": [
    "#Try other bandwidth, seems to change the result. Using this to determine the optimal bandwidth could be done,\n",
    "#would be computationally heavy.\n",
    "kde_s, kde_e = derive_p_class(t, label, bw_spiral= 0.05, bw_elliptical = 0.02)\n",
    "mc, classification = classify(t, label, kde_s, kde_e)\n",
    "print \"Misclassification rate:\", (mc/float(len(t['GR_REST'])))*100., \"%\""
   ]
  },
  {
   "cell_type": "code",
   "execution_count": 76,
   "metadata": {
    "collapsed": true
   },
   "outputs": [],
   "source": [
    "def GMM_class(table):\n",
    "    from sklearn.mixture import GMM\n",
    "    gr = table['GR_REST']\n",
    "    gr = gr.reshape(-1,1)\n",
    "    model = GMM(2).fit(gr)\n",
    "    return model\n",
    "    #res.bic(gr)\n",
    "    #print model.means_\n",
    "    #logprob, p_component = model.score_samples(gr)"
   ]
  },
  {
   "cell_type": "code",
   "execution_count": 88,
   "metadata": {
    "collapsed": false
   },
   "outputs": [
    {
     "name": "stderr",
     "output_type": "stream",
     "text": [
      "/usr/lib64/python2.7/site-packages/sklearn/utils/deprecation.py:52: DeprecationWarning: Class GMM is deprecated; The class GMM is deprecated in 0.18 and will be  removed in 0.20. Use class GaussianMixture instead.\n",
      "  warnings.warn(msg, category=DeprecationWarning)\n",
      "/usr/lib64/python2.7/site-packages/sklearn/utils/deprecation.py:70: DeprecationWarning: Function distribute_covar_matrix_to_match_covariance_type is deprecated; The functon distribute_covar_matrix_to_match_covariance_typeis deprecated in 0.18 and will be removed in 0.20.\n",
      "  warnings.warn(msg, category=DeprecationWarning)\n",
      "/usr/lib64/python2.7/site-packages/sklearn/utils/deprecation.py:70: DeprecationWarning: Function log_multivariate_normal_density is deprecated; The function log_multivariate_normal_density is deprecated in 0.18 and will be removed in 0.20.\n",
      "  warnings.warn(msg, category=DeprecationWarning)\n",
      "/usr/lib64/python2.7/site-packages/sklearn/utils/deprecation.py:70: DeprecationWarning: Function log_multivariate_normal_density is deprecated; The function log_multivariate_normal_density is deprecated in 0.18 and will be removed in 0.20.\n",
      "  warnings.warn(msg, category=DeprecationWarning)\n",
      "/usr/lib64/python2.7/site-packages/sklearn/utils/deprecation.py:70: DeprecationWarning: Function log_multivariate_normal_density is deprecated; The function log_multivariate_normal_density is deprecated in 0.18 and will be removed in 0.20.\n",
      "  warnings.warn(msg, category=DeprecationWarning)\n",
      "/usr/lib64/python2.7/site-packages/sklearn/utils/deprecation.py:70: DeprecationWarning: Function log_multivariate_normal_density is deprecated; The function log_multivariate_normal_density is deprecated in 0.18 and will be removed in 0.20.\n",
      "  warnings.warn(msg, category=DeprecationWarning)\n",
      "/usr/lib64/python2.7/site-packages/sklearn/utils/deprecation.py:70: DeprecationWarning: Function log_multivariate_normal_density is deprecated; The function log_multivariate_normal_density is deprecated in 0.18 and will be removed in 0.20.\n",
      "  warnings.warn(msg, category=DeprecationWarning)\n",
      "/usr/lib64/python2.7/site-packages/sklearn/utils/deprecation.py:70: DeprecationWarning: Function log_multivariate_normal_density is deprecated; The function log_multivariate_normal_density is deprecated in 0.18 and will be removed in 0.20.\n",
      "  warnings.warn(msg, category=DeprecationWarning)\n",
      "/usr/lib64/python2.7/site-packages/sklearn/utils/deprecation.py:70: DeprecationWarning: Function log_multivariate_normal_density is deprecated; The function log_multivariate_normal_density is deprecated in 0.18 and will be removed in 0.20.\n",
      "  warnings.warn(msg, category=DeprecationWarning)\n",
      "/usr/lib64/python2.7/site-packages/sklearn/utils/deprecation.py:70: DeprecationWarning: Function log_multivariate_normal_density is deprecated; The function log_multivariate_normal_density is deprecated in 0.18 and will be removed in 0.20.\n",
      "  warnings.warn(msg, category=DeprecationWarning)\n",
      "/usr/lib64/python2.7/site-packages/sklearn/utils/deprecation.py:70: DeprecationWarning: Function log_multivariate_normal_density is deprecated; The function log_multivariate_normal_density is deprecated in 0.18 and will be removed in 0.20.\n",
      "  warnings.warn(msg, category=DeprecationWarning)\n"
     ]
    },
    {
     "name": "stdout",
     "output_type": "stream",
     "text": [
      "Misclassification rate: 17.222016993 %\n"
     ]
    },
    {
     "data": {
      "text/plain": [
       "<matplotlib.text.Text at 0x7fc11f9cea90>"
      ]
     },
     "execution_count": 88,
     "metadata": {},
     "output_type": "execute_result"
    },
    {
     "data": {
      "image/png": "[encoded data removed]",
      "text/plain": [
       "<matplotlib.figure.Figure at 0x7fc12203c8d0>"
      ]
     },
     "metadata": {},
     "output_type": "display_data"
    }
   ],
   "source": [
    "model = GMM_class(train)\n",
    "\n",
    "x = np.linspace(0.0, 1.0, 1000)\n",
    "x = x.reshape(-1,1)\n",
    "logprob, p_component = model.score_samples(x)\n",
    "\n",
    "pdf = np.exp(logprob)\n",
    "pdf_individual = p_component * pdf[:, np.newaxis]\n",
    "\n",
    "gr = t['GR_REST']\n",
    "gr = gr.reshape(-1,1)\n",
    "logprob, p_component = model.score_samples(gr)\n",
    "kde_s, kde_e = np.hsplit(p_component, 2)\n",
    "mc, classification = classify2(t, label, kde_s, kde_e)\n",
    "print \"Misclassification rate:\", (mc/float(len(t['GR_REST'])))*100., \"%\"\n",
    "\n",
    "\n",
    "fig, ax = plt.subplots()\n",
    "ax.plot(x, pdf, '-k')\n",
    "ax.plot(x, pdf_individual, '--k')\n",
    "ax.set_xlabel('$x$')\n",
    "ax.set_ylabel('$p(x)$')"
   ]
  },
  {
   "cell_type": "code",
   "execution_count": null,
   "metadata": {
    "collapsed": true
   },
   "outputs": [],
   "source": []
  }
 ],
 "metadata": {
  "kernelspec": {
   "display_name": "Python 2",
   "language": "python",
   "name": "python2"
  },
  "language_info": {
   "codemirror_mode": {
    "name": "ipython",
    "version": 2
   },
   "file_extension": ".py",
   "mimetype": "text/x-python",
   "name": "python",
   "nbconvert_exporter": "python",
   "pygments_lexer": "ipython2",
   "version": "2.7.13"
  }
 },
 "nbformat": 4,
 "nbformat_minor": 0
}
